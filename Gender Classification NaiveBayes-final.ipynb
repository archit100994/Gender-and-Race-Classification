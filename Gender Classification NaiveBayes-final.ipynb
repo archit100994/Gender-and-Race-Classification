{
 "cells": [
  {
   "cell_type": "markdown",
   "metadata": {},
   "source": [
    "### Importing Required Packages"
   ]
  },
  {
   "cell_type": "code",
   "execution_count": 1,
   "metadata": {},
   "outputs": [],
   "source": [
    "import numpy as np\n",
    "import pandas as pd\n",
    "from nltk.classify import NaiveBayesClassifier\n",
    "from nltk.classify import accuracy\n",
    "from sklearn.utils import shuffle\n",
    "import pickle\n",
    "import re"
   ]
  },
  {
   "cell_type": "markdown",
   "metadata": {},
   "source": [
    "### Reading Data"
   ]
  },
  {
   "cell_type": "code",
   "execution_count": 2,
   "metadata": {},
   "outputs": [],
   "source": [
    "black_female = pd.read_csv(\"data/Black-Female-Names.csv\")\n",
    "black_male = pd.read_csv(\"data/Black-Male-Names.csv\")\n",
    "hispanic_female = pd.read_csv(\"data/Hispanic-Female-Names.csv\")\n",
    "hispanic_male = pd.read_csv(\"data/Hispanic-Male-Names.csv\")\n",
    "indian_female = pd.read_csv(\"data/Indian-Female-Names.csv\")\n",
    "indian_male = pd.read_csv(\"data/Indian-Male-Names.csv\")\n",
    "white_female = pd.read_csv(\"data/White-Female-Names.csv\")\n",
    "white_male = pd.read_csv(\"data/White-Male-Names.csv\")"
   ]
  },
  {
   "cell_type": "markdown",
   "metadata": {},
   "source": [
    "### Removing Nulls and removing white space from column *first name*"
   ]
  },
  {
   "cell_type": "code",
   "execution_count": 3,
   "metadata": {},
   "outputs": [],
   "source": [
    "black_female = black_female.dropna()\n",
    "black_male = black_male.dropna()\n",
    "hispanic_female = hispanic_female.dropna()\n",
    "hispanic_male = hispanic_male.dropna()\n",
    "indian_female = indian_female.dropna()\n",
    "indian_male = indian_male.dropna()\n",
    "white_female = white_female.dropna()\n",
    "white_male = white_male.dropna()\n",
    "\n",
    "black_female.columns = ['last name', 'first name', 'gender', 'race']\n",
    "black_male.columns = ['last name', 'first name', 'gender', 'race']\n",
    "hispanic_female.columns = ['last name', 'first name', 'gender', 'race']\n",
    "hispanic_male.columns = ['last name', 'first name', 'gender', 'race']\n",
    "white_female.columns = ['last name', 'first name', 'gender', 'race']\n",
    "white_male.columns = ['last name', 'first name', 'gender', 'race']"
   ]
  },
  {
   "cell_type": "markdown",
   "metadata": {},
   "source": [
    "### Having a look at the data"
   ]
  },
  {
   "cell_type": "code",
   "execution_count": 4,
   "metadata": {},
   "outputs": [
    {
     "data": {
      "text/html": [
       "<div>\n",
       "<style scoped>\n",
       "    .dataframe tbody tr th:only-of-type {\n",
       "        vertical-align: middle;\n",
       "    }\n",
       "\n",
       "    .dataframe tbody tr th {\n",
       "        vertical-align: top;\n",
       "    }\n",
       "\n",
       "    .dataframe thead th {\n",
       "        text-align: right;\n",
       "    }\n",
       "</style>\n",
       "<table border=\"1\" class=\"dataframe\">\n",
       "  <thead>\n",
       "    <tr style=\"text-align: right;\">\n",
       "      <th></th>\n",
       "      <th>last name</th>\n",
       "      <th>first name</th>\n",
       "      <th>gender</th>\n",
       "      <th>race</th>\n",
       "    </tr>\n",
       "  </thead>\n",
       "  <tbody>\n",
       "    <tr>\n",
       "      <th>0</th>\n",
       "      <td>abraham</td>\n",
       "      <td>tashanika l</td>\n",
       "      <td>f</td>\n",
       "      <td>black</td>\n",
       "    </tr>\n",
       "    <tr>\n",
       "      <th>1</th>\n",
       "      <td>adams</td>\n",
       "      <td>denetra c</td>\n",
       "      <td>f</td>\n",
       "      <td>black</td>\n",
       "    </tr>\n",
       "    <tr>\n",
       "      <th>2</th>\n",
       "      <td>adams</td>\n",
       "      <td>tomesha d</td>\n",
       "      <td>f</td>\n",
       "      <td>black</td>\n",
       "    </tr>\n",
       "    <tr>\n",
       "      <th>3</th>\n",
       "      <td>adams</td>\n",
       "      <td>trellany c</td>\n",
       "      <td>f</td>\n",
       "      <td>black</td>\n",
       "    </tr>\n",
       "    <tr>\n",
       "      <th>4</th>\n",
       "      <td>adderley</td>\n",
       "      <td>cynthia s</td>\n",
       "      <td>f</td>\n",
       "      <td>black</td>\n",
       "    </tr>\n",
       "  </tbody>\n",
       "</table>\n",
       "</div>"
      ],
      "text/plain": [
       "  last name     first name gender   race\n",
       "0   abraham   tashanika l       f  black\n",
       "1     adams     denetra c       f  black\n",
       "2     adams     tomesha d       f  black\n",
       "3     adams    trellany c       f  black\n",
       "4  adderley     cynthia s       f  black"
      ]
     },
     "execution_count": 4,
     "metadata": {},
     "output_type": "execute_result"
    }
   ],
   "source": [
    "black_female.head()"
   ]
  },
  {
   "cell_type": "code",
   "execution_count": 5,
   "metadata": {},
   "outputs": [
    {
     "data": {
      "text/html": [
       "<div>\n",
       "<style scoped>\n",
       "    .dataframe tbody tr th:only-of-type {\n",
       "        vertical-align: middle;\n",
       "    }\n",
       "\n",
       "    .dataframe tbody tr th {\n",
       "        vertical-align: top;\n",
       "    }\n",
       "\n",
       "    .dataframe thead th {\n",
       "        text-align: right;\n",
       "    }\n",
       "</style>\n",
       "<table border=\"1\" class=\"dataframe\">\n",
       "  <thead>\n",
       "    <tr style=\"text-align: right;\">\n",
       "      <th></th>\n",
       "      <th>last name</th>\n",
       "      <th>first name</th>\n",
       "      <th>gender</th>\n",
       "      <th>race</th>\n",
       "    </tr>\n",
       "  </thead>\n",
       "  <tbody>\n",
       "    <tr>\n",
       "      <th>0</th>\n",
       "      <td>aaron</td>\n",
       "      <td>aaric a</td>\n",
       "      <td>m</td>\n",
       "      <td>black</td>\n",
       "    </tr>\n",
       "    <tr>\n",
       "      <th>1</th>\n",
       "      <td>aaron</td>\n",
       "      <td>dominique j</td>\n",
       "      <td>m</td>\n",
       "      <td>black</td>\n",
       "    </tr>\n",
       "    <tr>\n",
       "      <th>2</th>\n",
       "      <td>aaron</td>\n",
       "      <td>fredrick r</td>\n",
       "      <td>m</td>\n",
       "      <td>black</td>\n",
       "    </tr>\n",
       "    <tr>\n",
       "      <th>3</th>\n",
       "      <td>aaron</td>\n",
       "      <td>jarvis</td>\n",
       "      <td>m</td>\n",
       "      <td>black</td>\n",
       "    </tr>\n",
       "    <tr>\n",
       "      <th>4</th>\n",
       "      <td>aaron</td>\n",
       "      <td>lorenzo</td>\n",
       "      <td>m</td>\n",
       "      <td>black</td>\n",
       "    </tr>\n",
       "  </tbody>\n",
       "</table>\n",
       "</div>"
      ],
      "text/plain": [
       "  last name     first name gender   race\n",
       "0     aaron       aaric a       m  black\n",
       "1     aaron   dominique j       m  black\n",
       "2     aaron    fredrick r       m  black\n",
       "3     aaron       jarvis        m  black\n",
       "4     aaron      lorenzo        m  black"
      ]
     },
     "execution_count": 5,
     "metadata": {},
     "output_type": "execute_result"
    }
   ],
   "source": [
    "black_male.head()"
   ]
  },
  {
   "cell_type": "code",
   "execution_count": 6,
   "metadata": {},
   "outputs": [
    {
     "data": {
      "text/html": [
       "<div>\n",
       "<style scoped>\n",
       "    .dataframe tbody tr th:only-of-type {\n",
       "        vertical-align: middle;\n",
       "    }\n",
       "\n",
       "    .dataframe tbody tr th {\n",
       "        vertical-align: top;\n",
       "    }\n",
       "\n",
       "    .dataframe thead th {\n",
       "        text-align: right;\n",
       "    }\n",
       "</style>\n",
       "<table border=\"1\" class=\"dataframe\">\n",
       "  <thead>\n",
       "    <tr style=\"text-align: right;\">\n",
       "      <th></th>\n",
       "      <th>last name</th>\n",
       "      <th>first name</th>\n",
       "      <th>gender</th>\n",
       "      <th>race</th>\n",
       "    </tr>\n",
       "  </thead>\n",
       "  <tbody>\n",
       "    <tr>\n",
       "      <th>0</th>\n",
       "      <td>adams</td>\n",
       "      <td>shirley m</td>\n",
       "      <td>f</td>\n",
       "      <td>hispanic</td>\n",
       "    </tr>\n",
       "    <tr>\n",
       "      <th>1</th>\n",
       "      <td>alonso</td>\n",
       "      <td>ana d</td>\n",
       "      <td>f</td>\n",
       "      <td>hispanic</td>\n",
       "    </tr>\n",
       "    <tr>\n",
       "      <th>2</th>\n",
       "      <td>alonzo</td>\n",
       "      <td>miriam</td>\n",
       "      <td>f</td>\n",
       "      <td>hispanic</td>\n",
       "    </tr>\n",
       "    <tr>\n",
       "      <th>3</th>\n",
       "      <td>alvarez</td>\n",
       "      <td>ivette</td>\n",
       "      <td>f</td>\n",
       "      <td>hispanic</td>\n",
       "    </tr>\n",
       "    <tr>\n",
       "      <th>4</th>\n",
       "      <td>amador</td>\n",
       "      <td>saray</td>\n",
       "      <td>f</td>\n",
       "      <td>hispanic</td>\n",
       "    </tr>\n",
       "  </tbody>\n",
       "</table>\n",
       "</div>"
      ],
      "text/plain": [
       "  last name   first name gender      race\n",
       "0     adams   shirley m       f  hispanic\n",
       "1    alonso       ana d       f  hispanic\n",
       "2    alonzo     miriam        f  hispanic\n",
       "3   alvarez     ivette        f  hispanic\n",
       "4    amador      saray        f  hispanic"
      ]
     },
     "execution_count": 6,
     "metadata": {},
     "output_type": "execute_result"
    }
   ],
   "source": [
    "hispanic_female.head()"
   ]
  },
  {
   "cell_type": "code",
   "execution_count": 7,
   "metadata": {},
   "outputs": [
    {
     "data": {
      "text/html": [
       "<div>\n",
       "<style scoped>\n",
       "    .dataframe tbody tr th:only-of-type {\n",
       "        vertical-align: middle;\n",
       "    }\n",
       "\n",
       "    .dataframe tbody tr th {\n",
       "        vertical-align: top;\n",
       "    }\n",
       "\n",
       "    .dataframe thead th {\n",
       "        text-align: right;\n",
       "    }\n",
       "</style>\n",
       "<table border=\"1\" class=\"dataframe\">\n",
       "  <thead>\n",
       "    <tr style=\"text-align: right;\">\n",
       "      <th></th>\n",
       "      <th>last name</th>\n",
       "      <th>first name</th>\n",
       "      <th>gender</th>\n",
       "      <th>race</th>\n",
       "    </tr>\n",
       "  </thead>\n",
       "  <tbody>\n",
       "    <tr>\n",
       "      <th>0</th>\n",
       "      <td>abad</td>\n",
       "      <td>jonathan r</td>\n",
       "      <td>m</td>\n",
       "      <td>hispanic</td>\n",
       "    </tr>\n",
       "    <tr>\n",
       "      <th>1</th>\n",
       "      <td>abellas-bauzo</td>\n",
       "      <td>jonathan a</td>\n",
       "      <td>m</td>\n",
       "      <td>hispanic</td>\n",
       "    </tr>\n",
       "    <tr>\n",
       "      <th>2</th>\n",
       "      <td>abreu</td>\n",
       "      <td>pablo</td>\n",
       "      <td>m</td>\n",
       "      <td>hispanic</td>\n",
       "    </tr>\n",
       "    <tr>\n",
       "      <th>3</th>\n",
       "      <td>abreu sosa</td>\n",
       "      <td>basilio l</td>\n",
       "      <td>m</td>\n",
       "      <td>hispanic</td>\n",
       "    </tr>\n",
       "    <tr>\n",
       "      <th>4</th>\n",
       "      <td>abreu-bolano</td>\n",
       "      <td>german</td>\n",
       "      <td>m</td>\n",
       "      <td>hispanic</td>\n",
       "    </tr>\n",
       "  </tbody>\n",
       "</table>\n",
       "</div>"
      ],
      "text/plain": [
       "       last name    first name gender      race\n",
       "0           abad   jonathan r       m  hispanic\n",
       "1  abellas-bauzo   jonathan a       m  hispanic\n",
       "2          abreu       pablo        m  hispanic\n",
       "3     abreu sosa    basilio l       m  hispanic\n",
       "4   abreu-bolano      german        m  hispanic"
      ]
     },
     "execution_count": 7,
     "metadata": {},
     "output_type": "execute_result"
    }
   ],
   "source": [
    "hispanic_male.head()"
   ]
  },
  {
   "cell_type": "code",
   "execution_count": 8,
   "metadata": {},
   "outputs": [
    {
     "data": {
      "text/html": [
       "<div>\n",
       "<style scoped>\n",
       "    .dataframe tbody tr th:only-of-type {\n",
       "        vertical-align: middle;\n",
       "    }\n",
       "\n",
       "    .dataframe tbody tr th {\n",
       "        vertical-align: top;\n",
       "    }\n",
       "\n",
       "    .dataframe thead th {\n",
       "        text-align: right;\n",
       "    }\n",
       "</style>\n",
       "<table border=\"1\" class=\"dataframe\">\n",
       "  <thead>\n",
       "    <tr style=\"text-align: right;\">\n",
       "      <th></th>\n",
       "      <th>name</th>\n",
       "      <th>gender</th>\n",
       "      <th>race</th>\n",
       "    </tr>\n",
       "  </thead>\n",
       "  <tbody>\n",
       "    <tr>\n",
       "      <th>0</th>\n",
       "      <td>shivani</td>\n",
       "      <td>f</td>\n",
       "      <td>indian</td>\n",
       "    </tr>\n",
       "    <tr>\n",
       "      <th>1</th>\n",
       "      <td>isha</td>\n",
       "      <td>f</td>\n",
       "      <td>indian</td>\n",
       "    </tr>\n",
       "    <tr>\n",
       "      <th>2</th>\n",
       "      <td>smt shyani devi</td>\n",
       "      <td>f</td>\n",
       "      <td>indian</td>\n",
       "    </tr>\n",
       "    <tr>\n",
       "      <th>3</th>\n",
       "      <td>divya</td>\n",
       "      <td>f</td>\n",
       "      <td>indian</td>\n",
       "    </tr>\n",
       "    <tr>\n",
       "      <th>4</th>\n",
       "      <td>mansi</td>\n",
       "      <td>f</td>\n",
       "      <td>indian</td>\n",
       "    </tr>\n",
       "  </tbody>\n",
       "</table>\n",
       "</div>"
      ],
      "text/plain": [
       "              name gender    race\n",
       "0          shivani      f  indian\n",
       "1             isha      f  indian\n",
       "2  smt shyani devi      f  indian\n",
       "3            divya      f  indian\n",
       "4            mansi      f  indian"
      ]
     },
     "execution_count": 8,
     "metadata": {},
     "output_type": "execute_result"
    }
   ],
   "source": [
    "indian_female.head()"
   ]
  },
  {
   "cell_type": "code",
   "execution_count": 9,
   "metadata": {},
   "outputs": [
    {
     "data": {
      "text/html": [
       "<div>\n",
       "<style scoped>\n",
       "    .dataframe tbody tr th:only-of-type {\n",
       "        vertical-align: middle;\n",
       "    }\n",
       "\n",
       "    .dataframe tbody tr th {\n",
       "        vertical-align: top;\n",
       "    }\n",
       "\n",
       "    .dataframe thead th {\n",
       "        text-align: right;\n",
       "    }\n",
       "</style>\n",
       "<table border=\"1\" class=\"dataframe\">\n",
       "  <thead>\n",
       "    <tr style=\"text-align: right;\">\n",
       "      <th></th>\n",
       "      <th>name</th>\n",
       "      <th>gender</th>\n",
       "      <th>race</th>\n",
       "    </tr>\n",
       "  </thead>\n",
       "  <tbody>\n",
       "    <tr>\n",
       "      <th>0</th>\n",
       "      <td>barjraj</td>\n",
       "      <td>m</td>\n",
       "      <td>indian</td>\n",
       "    </tr>\n",
       "    <tr>\n",
       "      <th>1</th>\n",
       "      <td>ramdin verma</td>\n",
       "      <td>m</td>\n",
       "      <td>indian</td>\n",
       "    </tr>\n",
       "    <tr>\n",
       "      <th>2</th>\n",
       "      <td>sharat chandran</td>\n",
       "      <td>m</td>\n",
       "      <td>indian</td>\n",
       "    </tr>\n",
       "    <tr>\n",
       "      <th>3</th>\n",
       "      <td>birender mandal</td>\n",
       "      <td>m</td>\n",
       "      <td>indian</td>\n",
       "    </tr>\n",
       "    <tr>\n",
       "      <th>4</th>\n",
       "      <td>amit</td>\n",
       "      <td>m</td>\n",
       "      <td>indian</td>\n",
       "    </tr>\n",
       "  </tbody>\n",
       "</table>\n",
       "</div>"
      ],
      "text/plain": [
       "              name gender    race\n",
       "0          barjraj      m  indian\n",
       "1     ramdin verma      m  indian\n",
       "2  sharat chandran      m  indian\n",
       "3  birender mandal      m  indian\n",
       "4             amit      m  indian"
      ]
     },
     "execution_count": 9,
     "metadata": {},
     "output_type": "execute_result"
    }
   ],
   "source": [
    "indian_male.head()"
   ]
  },
  {
   "cell_type": "code",
   "execution_count": 10,
   "metadata": {},
   "outputs": [
    {
     "data": {
      "text/html": [
       "<div>\n",
       "<style scoped>\n",
       "    .dataframe tbody tr th:only-of-type {\n",
       "        vertical-align: middle;\n",
       "    }\n",
       "\n",
       "    .dataframe tbody tr th {\n",
       "        vertical-align: top;\n",
       "    }\n",
       "\n",
       "    .dataframe thead th {\n",
       "        text-align: right;\n",
       "    }\n",
       "</style>\n",
       "<table border=\"1\" class=\"dataframe\">\n",
       "  <thead>\n",
       "    <tr style=\"text-align: right;\">\n",
       "      <th></th>\n",
       "      <th>last name</th>\n",
       "      <th>first name</th>\n",
       "      <th>gender</th>\n",
       "      <th>race</th>\n",
       "    </tr>\n",
       "  </thead>\n",
       "  <tbody>\n",
       "    <tr>\n",
       "      <th>0</th>\n",
       "      <td>abbott</td>\n",
       "      <td>leslie b</td>\n",
       "      <td>f</td>\n",
       "      <td>white</td>\n",
       "    </tr>\n",
       "    <tr>\n",
       "      <th>1</th>\n",
       "      <td>abbott</td>\n",
       "      <td>peggy s</td>\n",
       "      <td>f</td>\n",
       "      <td>white</td>\n",
       "    </tr>\n",
       "    <tr>\n",
       "      <th>2</th>\n",
       "      <td>abernathy</td>\n",
       "      <td>rebecca r</td>\n",
       "      <td>f</td>\n",
       "      <td>white</td>\n",
       "    </tr>\n",
       "    <tr>\n",
       "      <th>3</th>\n",
       "      <td>abidin</td>\n",
       "      <td>antoinette</td>\n",
       "      <td>f</td>\n",
       "      <td>white</td>\n",
       "    </tr>\n",
       "    <tr>\n",
       "      <th>4</th>\n",
       "      <td>able</td>\n",
       "      <td>shaylene n</td>\n",
       "      <td>f</td>\n",
       "      <td>white</td>\n",
       "    </tr>\n",
       "  </tbody>\n",
       "</table>\n",
       "</div>"
      ],
      "text/plain": [
       "   last name     first name gender   race\n",
       "0     abbott      leslie b       f  white\n",
       "1     abbott       peggy s       f  white\n",
       "2  abernathy     rebecca r       f  white\n",
       "3     abidin   antoinette        f  white\n",
       "4       able    shaylene n       f  white"
      ]
     },
     "execution_count": 10,
     "metadata": {},
     "output_type": "execute_result"
    }
   ],
   "source": [
    "white_female.head()"
   ]
  },
  {
   "cell_type": "code",
   "execution_count": 11,
   "metadata": {},
   "outputs": [
    {
     "data": {
      "text/html": [
       "<div>\n",
       "<style scoped>\n",
       "    .dataframe tbody tr th:only-of-type {\n",
       "        vertical-align: middle;\n",
       "    }\n",
       "\n",
       "    .dataframe tbody tr th {\n",
       "        vertical-align: top;\n",
       "    }\n",
       "\n",
       "    .dataframe thead th {\n",
       "        text-align: right;\n",
       "    }\n",
       "</style>\n",
       "<table border=\"1\" class=\"dataframe\">\n",
       "  <thead>\n",
       "    <tr style=\"text-align: right;\">\n",
       "      <th></th>\n",
       "      <th>last name</th>\n",
       "      <th>first name</th>\n",
       "      <th>gender</th>\n",
       "      <th>race</th>\n",
       "    </tr>\n",
       "  </thead>\n",
       "  <tbody>\n",
       "    <tr>\n",
       "      <th>0</th>\n",
       "      <td>aaron</td>\n",
       "      <td>billy r</td>\n",
       "      <td>m</td>\n",
       "      <td>white</td>\n",
       "    </tr>\n",
       "    <tr>\n",
       "      <th>1</th>\n",
       "      <td>aaron</td>\n",
       "      <td>charles d</td>\n",
       "      <td>m</td>\n",
       "      <td>white</td>\n",
       "    </tr>\n",
       "    <tr>\n",
       "      <th>2</th>\n",
       "      <td>aaron</td>\n",
       "      <td>clarence d</td>\n",
       "      <td>m</td>\n",
       "      <td>white</td>\n",
       "    </tr>\n",
       "    <tr>\n",
       "      <th>3</th>\n",
       "      <td>aaron</td>\n",
       "      <td>justin c</td>\n",
       "      <td>m</td>\n",
       "      <td>white</td>\n",
       "    </tr>\n",
       "    <tr>\n",
       "      <th>4</th>\n",
       "      <td>aaron</td>\n",
       "      <td>roy s</td>\n",
       "      <td>m</td>\n",
       "      <td>white</td>\n",
       "    </tr>\n",
       "  </tbody>\n",
       "</table>\n",
       "</div>"
      ],
      "text/plain": [
       "  last name    first name gender   race\n",
       "0     aaron      billy r       m  white\n",
       "1     aaron    charles d       m  white\n",
       "2     aaron   clarence d       m  white\n",
       "3     aaron     justin c       m  white\n",
       "4     aaron        roy s       m  white"
      ]
     },
     "execution_count": 11,
     "metadata": {},
     "output_type": "execute_result"
    }
   ],
   "source": [
    "white_male.head()"
   ]
  },
  {
   "cell_type": "markdown",
   "metadata": {},
   "source": [
    "### Data Preprocessing"
   ]
  },
  {
   "cell_type": "markdown",
   "metadata": {},
   "source": [
    "Cleaning up all characters which are not in english language and also removing everything which come after some suffix.<br>\n",
    "example: name **shyani devi w/o shyam lal** is cleaned to **shyani devi**<br><br>\n",
    "These kind of scenarios were encountered only in Indian names"
   ]
  },
  {
   "cell_type": "code",
   "execution_count": 12,
   "metadata": {},
   "outputs": [
    {
     "name": "stdout",
     "output_type": "stream",
     "text": [
      "(15351, 3)\n",
      "(15280, 4)\n",
      "(14821, 3)\n",
      "(14776, 4)\n"
     ]
    }
   ],
   "source": [
    "def clean_data(data):\n",
    "    data = re.sub('[^a-zA-Z&/ ]+', ' ', data)\n",
    "    data = re.split(\"(d/0|d/o|d/|w/0|w/o|w/|s/o|s/0|s/|\\(|with)\", data)[0]\n",
    "    data = data.strip()\n",
    "    if len(data) > 0:\n",
    "        return (data)\n",
    "    else:\n",
    "        return np.NAN\n",
    "\n",
    "print(indian_female.shape)\n",
    "indian_female['clean_name'] = indian_female['name'].apply(clean_data)\n",
    "indian_female = indian_female.dropna()\n",
    "print(indian_female.shape)\n",
    "\n",
    "print(indian_male.shape)\n",
    "indian_male['clean_name'] = indian_male['name'].apply(clean_data)\n",
    "indian_male = indian_male.dropna()\n",
    "print(indian_male.shape)"
   ]
  },
  {
   "cell_type": "markdown",
   "metadata": {},
   "source": [
    "#### Removed salutations like Mr, Mrs, smt, km, Shri, etc from names"
   ]
  },
  {
   "cell_type": "code",
   "execution_count": 13,
   "metadata": {},
   "outputs": [],
   "source": [
    "def remove_salutation(data):\n",
    "    data = re.split(\"(smt\\W|km\\W|mr\\W|shri\\W|mrs\\W|miss\\W)\", data, 1)\n",
    "    if(len(data) > 1):\n",
    "        return (data[2].strip())\n",
    "    else:\n",
    "        return(data[0].strip())\n",
    "indian_female['clean_name'] = indian_female['clean_name'].apply(remove_salutation)\n",
    "indian_male['clean_name'] = indian_male['clean_name'].apply(remove_salutation)"
   ]
  },
  {
   "cell_type": "markdown",
   "metadata": {},
   "source": [
    "### Generating First Name and Last Name from cleaned names"
   ]
  },
  {
   "cell_type": "code",
   "execution_count": 14,
   "metadata": {},
   "outputs": [],
   "source": [
    "def get_fname(data):\n",
    "    data = data.split(' ')\n",
    "    return data[0]\n",
    "\n",
    "def get_lname(data):\n",
    "    data = data.split(' ')\n",
    "    if(len(data) > 1):\n",
    "        return data[-1]\n",
    "\n",
    "indian_female['first name'] = indian_female['clean_name'].apply(get_fname)\n",
    "indian_female['last name'] = indian_female['clean_name'].apply(get_lname)\n",
    "indian_male['first name'] = indian_male['clean_name'].apply(get_fname)\n",
    "indian_male['last name'] = indian_male['clean_name'].apply(get_lname)"
   ]
  },
  {
   "cell_type": "code",
   "execution_count": 15,
   "metadata": {},
   "outputs": [],
   "source": [
    "indian_female = indian_female[['last name', 'first name', 'gender', 'race']]\n",
    "indian_male = indian_male[['last name', 'first name', 'gender', 'race']]\n",
    "# display(indian_female.head())\n",
    "# display(indian_male.head())"
   ]
  },
  {
   "cell_type": "markdown",
   "metadata": {},
   "source": [
    "### Indian Preprocessing complete now merge dataset"
   ]
  },
  {
   "cell_type": "code",
   "execution_count": 16,
   "metadata": {},
   "outputs": [],
   "source": [
    "full_dataset = black_female.append(black_male, ignore_index = True)\n",
    "full_dataset = full_dataset.append(hispanic_female, ignore_index=True)\n",
    "full_dataset = full_dataset.append(hispanic_male, ignore_index=True)\n",
    "full_dataset = full_dataset.append(indian_female, ignore_index=True)\n",
    "full_dataset = full_dataset.append(indian_male, ignore_index=True)\n",
    "full_dataset = full_dataset.append(white_female, ignore_index=True)\n",
    "full_dataset = full_dataset.append(white_male, ignore_index=True)"
   ]
  },
  {
   "cell_type": "code",
   "execution_count": 17,
   "metadata": {},
   "outputs": [
    {
     "data": {
      "text/html": [
       "<div>\n",
       "<style scoped>\n",
       "    .dataframe tbody tr th:only-of-type {\n",
       "        vertical-align: middle;\n",
       "    }\n",
       "\n",
       "    .dataframe tbody tr th {\n",
       "        vertical-align: top;\n",
       "    }\n",
       "\n",
       "    .dataframe thead th {\n",
       "        text-align: right;\n",
       "    }\n",
       "</style>\n",
       "<table border=\"1\" class=\"dataframe\">\n",
       "  <thead>\n",
       "    <tr style=\"text-align: right;\">\n",
       "      <th></th>\n",
       "      <th>last name</th>\n",
       "      <th>first name</th>\n",
       "      <th>gender</th>\n",
       "      <th>race</th>\n",
       "    </tr>\n",
       "  </thead>\n",
       "  <tbody>\n",
       "    <tr>\n",
       "      <th>count</th>\n",
       "      <td>103543</td>\n",
       "      <td>120603</td>\n",
       "      <td>120603</td>\n",
       "      <td>120603</td>\n",
       "    </tr>\n",
       "    <tr>\n",
       "      <th>unique</th>\n",
       "      <td>25052</td>\n",
       "      <td>36987</td>\n",
       "      <td>2</td>\n",
       "      <td>5</td>\n",
       "    </tr>\n",
       "    <tr>\n",
       "      <th>top</th>\n",
       "      <td>kumar</td>\n",
       "      <td>michael</td>\n",
       "      <td>m</td>\n",
       "      <td>white</td>\n",
       "    </tr>\n",
       "    <tr>\n",
       "      <th>freq</th>\n",
       "      <td>1495</td>\n",
       "      <td>485</td>\n",
       "      <td>98068</td>\n",
       "      <td>48645</td>\n",
       "    </tr>\n",
       "  </tbody>\n",
       "</table>\n",
       "</div>"
      ],
      "text/plain": [
       "       last name  first name  gender    race\n",
       "count     103543      120603  120603  120603\n",
       "unique     25052       36987       2       5\n",
       "top        kumar   michael         m   white\n",
       "freq        1495         485   98068   48645"
      ]
     },
     "execution_count": 17,
     "metadata": {},
     "output_type": "execute_result"
    }
   ],
   "source": [
    "full_dataset.shape\n",
    "full_dataset.describe()"
   ]
  },
  {
   "cell_type": "code",
   "execution_count": 18,
   "metadata": {},
   "outputs": [],
   "source": [
    "full_dataset = shuffle(full_dataset)"
   ]
  },
  {
   "cell_type": "markdown",
   "metadata": {},
   "source": [
    "# Extract features"
   ]
  },
  {
   "cell_type": "code",
   "execution_count": 19,
   "metadata": {},
   "outputs": [],
   "source": [
    "def gender_features(name):\n",
    "        \"\"\"\n",
    "        Traing and Testing feature sets\n",
    "        \"\"\"\n",
    "        name = name.lower()\n",
    "        name = name.strip()\n",
    "        return ({\n",
    "                'last_is_vowel': (name[-1] in 'AEIOUY'),\n",
    "                'last_letter': name[-1],\n",
    "                'last_three': name[-3:],\n",
    "                'last_two': name[-2:],\n",
    "                'first_letter': name[0]\n",
    "            })"
   ]
  },
  {
   "cell_type": "code",
   "execution_count": 20,
   "metadata": {},
   "outputs": [],
   "source": [
    "features_dataset = full_dataset['first name'].apply(gender_features)"
   ]
  },
  {
   "cell_type": "markdown",
   "metadata": {},
   "source": [
    "### Generating dataframe for features vs label mapping"
   ]
  },
  {
   "cell_type": "code",
   "execution_count": 21,
   "metadata": {},
   "outputs": [],
   "source": [
    "dataset = pd.DataFrame()\n",
    "dataset['feat'] = features_dataset\n",
    "dataset['gender'] = full_dataset['gender']"
   ]
  },
  {
   "cell_type": "markdown",
   "metadata": {},
   "source": [
    "### Test Train Split"
   ]
  },
  {
   "cell_type": "code",
   "execution_count": 22,
   "metadata": {},
   "outputs": [],
   "source": [
    "tr_data_to_use = list(dataset.itertuples(index=False))\n",
    "\n",
    "partition = int(len(features_dataset) * 0.9) # data set partition\n",
    "tr_nb = tr_data_to_use[:partition]\n",
    "test_nb = tr_data_to_use[partition:]"
   ]
  },
  {
   "cell_type": "markdown",
   "metadata": {},
   "source": [
    "## Training Naive Bayes"
   ]
  },
  {
   "cell_type": "code",
   "execution_count": 23,
   "metadata": {},
   "outputs": [],
   "source": [
    "classifier = NaiveBayesClassifier.train(tr_nb)"
   ]
  },
  {
   "cell_type": "markdown",
   "metadata": {},
   "source": [
    "### Checking accuracy"
   ]
  },
  {
   "cell_type": "code",
   "execution_count": 24,
   "metadata": {},
   "outputs": [
    {
     "name": "stdout",
     "output_type": "stream",
     "text": [
      "Classifier accuracy: 91.40%\n"
     ]
    }
   ],
   "source": [
    "print(\"Classifier accuracy: {:0.2%}\".format(accuracy(classifier, test_nb)))"
   ]
  },
  {
   "cell_type": "markdown",
   "metadata": {},
   "source": [
    "## Saving model to file"
   ]
  },
  {
   "cell_type": "code",
   "execution_count": 25,
   "metadata": {},
   "outputs": [],
   "source": [
    "naiveBayes = open(\"naive_bayes_gender_classification_model.pkl\",\"wb\")\n",
    "pickle.dump(classifier,naiveBayes)\n",
    "naiveBayes.close()"
   ]
  },
  {
   "cell_type": "markdown",
   "metadata": {},
   "source": [
    "# Test it"
   ]
  },
  {
   "cell_type": "code",
   "execution_count": 26,
   "metadata": {},
   "outputs": [
    {
     "name": "stdout",
     "output_type": "stream",
     "text": [
      "Enter your name here: Vishal\n",
      "Vishal is predicted as female (52.65%)\n"
     ]
    }
   ],
   "source": [
    "name = input('Enter your name here: ')\n",
    "dist = classifier.prob_classify(gender_features(name))\n",
    "m, f = dist.prob(\"m\"), dist.prob(\"f\")\n",
    "d = {m: \"male\", f: \"female\"}\n",
    "prob = max(m,f)\n",
    "guess = d[prob]\n",
    "print(\"%s is predicted as %s (%.2f%%)\" % (name, guess, prob * 100))"
   ]
  }
 ],
 "metadata": {
  "kernelspec": {
   "display_name": "Python 3",
   "language": "python",
   "name": "python3"
  },
  "language_info": {
   "codemirror_mode": {
    "name": "ipython",
    "version": 3
   },
   "file_extension": ".py",
   "mimetype": "text/x-python",
   "name": "python",
   "nbconvert_exporter": "python",
   "pygments_lexer": "ipython3",
   "version": "3.6.5"
  }
 },
 "nbformat": 4,
 "nbformat_minor": 2
}
